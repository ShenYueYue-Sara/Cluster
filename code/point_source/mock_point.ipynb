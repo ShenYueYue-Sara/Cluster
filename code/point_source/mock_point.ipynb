{
 "cells": [
  {
   "attachments": {},
   "cell_type": "markdown",
   "metadata": {},
   "source": [
    "### generate mock point source data\n",
    "#### main function ：F(x)\n",
    "- input x : \n",
    "  - [Fe/H], Age, (DM), $\\rm{f}_{b}$, IMF($\\alpha$)\n",
    "  - m(Error), mag range, $\\rm{N}_{partical}$\n",
    "\n",
    "- output y :\n",
    "  - G, BP-RP ==> CMD\n",
    "\n",
    "#### functions inside F(x) :\n",
    "1. isochrone([Fe/H], Age, (DM))\n",
    "  \n",
    "2. Sample mockstar(IMF, $\\rm{f}_{b}$)\n",
    " \n",
    "3. add Error "
   ]
  },
  {
   "cell_type": "code",
   "execution_count": 50,
   "metadata": {},
   "outputs": [],
   "source": [
    "from berliner import CMD\n",
    "from scipy import integrate\n",
    "import random\n",
    "import pandas as pd\n",
    "import numpy as np\n",
    "import emcee\n",
    "\n",
    "import matplotlib.pyplot as plt\n",
    "%matplotlib inline\n",
    "plt.style.use(\"default\")\n",
    "\n",
    "import sys\n",
    "sys.path.append('../') # 添加包含functionkit.py文件的目录路径\n",
    "import functionkit"
   ]
  },
  {
   "attachments": {},
   "cell_type": "markdown",
   "metadata": {},
   "source": [
    "#### 1. isochrone([Fe/H], Age, (DM))\n",
    "\n",
    "- get isochrones using berliner "
   ]
  },
  {
   "cell_type": "code",
   "execution_count": 52,
   "metadata": {},
   "outputs": [
    {
     "name": "stdout",
     "output_type": "stream",
     "text": [
      "@CMD: n(logAge)=43, n([M/H])=32\n",
      "@CMD: grid(logAge):  [ 6.   6.1  6.2  6.3  6.4  6.5  6.6  6.7  6.8  6.9  7.   7.1  7.2  7.3\n",
      "  7.4  7.5  7.6  7.7  7.8  7.9  8.   8.1  8.2  8.3  8.4  8.5  8.6  8.7\n",
      "  8.8  8.9  9.   9.1  9.2  9.3  9.4  9.5  9.6  9.7  9.8  9.9 10.  10.1\n",
      " 10.2]\n",
      "@CMD: grid([M/H]) :  [-2.60000000e+00 -2.50000000e+00 -2.40000000e+00 -2.30000000e+00\n",
      " -2.20000000e+00 -2.10000000e+00 -2.00000000e+00 -1.90000000e+00\n",
      " -1.80000000e+00 -1.70000000e+00 -1.60000000e+00 -1.50000000e+00\n",
      " -1.40000000e+00 -1.30000000e+00 -1.20000000e+00 -1.10000000e+00\n",
      " -1.00000000e+00 -9.00000000e-01 -8.00000000e-01 -7.00000000e-01\n",
      " -6.00000000e-01 -5.00000000e-01 -4.00000000e-01 -3.00000000e-01\n",
      " -2.00000000e-01 -1.00000000e-01  2.22044605e-15  1.00000000e-01\n",
      "  2.00000000e-01  3.00000000e-01  4.00000000e-01  5.00000000e-01]\n"
     ]
    },
    {
     "name": "stderr",
     "output_type": "stream",
     "text": [
      "[Parallel(n_jobs=50)]: Using backend LokyBackend with 50 concurrent workers.\n",
      "[Parallel(n_jobs=50)]: Done   4 out of  43 | elapsed:  1.5min remaining: 14.4min\n",
      "[Parallel(n_jobs=50)]: Done   9 out of  43 | elapsed:  1.6min remaining:  6.2min\n",
      "[Parallel(n_jobs=50)]: Done  14 out of  43 | elapsed:  1.8min remaining:  3.7min\n",
      "[Parallel(n_jobs=50)]: Done  19 out of  43 | elapsed:  1.8min remaining:  2.3min\n",
      "[Parallel(n_jobs=50)]: Done  24 out of  43 | elapsed:  1.8min remaining:  1.4min\n",
      "[Parallel(n_jobs=50)]: Done  29 out of  43 | elapsed:  1.8min remaining:   53.5s\n",
      "[Parallel(n_jobs=50)]: Done  34 out of  43 | elapsed:  1.9min remaining:   29.5s\n",
      "[Parallel(n_jobs=50)]: Done  39 out of  43 | elapsed:  1.9min remaining:   11.6s\n",
      "[Parallel(n_jobs=50)]: Done  43 out of  43 | elapsed:  1.9min finished\n"
     ]
    }
   ],
   "source": [
    "# get isochrones using berliner\n",
    "c = CMD()\n",
    "# define your grid of logAge and [M/H] as tuple(lower, upper, step)\n",
    "grid_logage = (6, 10.2, 0.1)\n",
    "grid_mh = (-2.6, 0.5, 0.1)\n",
    "# download isochrones in parallel\n",
    "isoc_lgage, isoc_mhini, isoc_list = c.get_isochrone_grid_mh(\n",
    "    grid_logage=grid_logage, grid_mh=grid_mh, photsys_file=\"gaiaDR2\",\n",
    "    n_jobs=50, verbose=10)"
   ]
  },
  {
   "cell_type": "code",
   "execution_count": 53,
   "metadata": {},
   "outputs": [],
   "source": [
    "for i in range(len(isoc_list)):\n",
    "    iso = isoc_list[i].to_pandas()\n",
    "    #iso = iso[(iso['label']>0)&(iso['label']<=7)]\n",
    "    logAge = iso.iloc[0]['logAge']\n",
    "    MH = iso.iloc[0]['MH']\n",
    "    iso.to_csv('../../data/isochrones/iso_age_%s_mh_%s.csv'%(logAge,MH),index=False)"
   ]
  },
  {
   "attachments": {},
   "cell_type": "markdown",
   "metadata": {},
   "source": [
    "#### 2. Sample mockstar(IMF, $\\rm{f}_{b}$)\n",
    "\n",
    "- define different IMF `fun_IMF(m_x,label)` and `pdf_IMF(m_x,m_min,m_max,label)`\n",
    "\n",
    "- ramdon sampling according to defined IMF `random_IMF(m_n, m_min, m_max,label)`"
   ]
  },
  {
   "cell_type": "code",
   "execution_count": null,
   "metadata": {},
   "outputs": [],
   "source": [
    "# 初始质量函数\n",
    "# generate the mass catalog follow the selected IMF \n",
    "def fun_IMF(m_x,label='Kroupa'):\n",
    "    '''\n",
    "    Initial Mass Funcation\n",
    "    label = ['Salpeter','Kroupa','Chabrier']\n",
    "    '''\n",
    "    while label == 'Salpeter':\n",
    "        if m_x < 0.1:\n",
    "            return 0\n",
    "        elif m_x < 100:\n",
    "            return m_x**(-2.35)\n",
    "        else : \n",
    "            return 0\n",
    "    \n",
    "    while label == 'Kroupa':\n",
    "        if m_x < 0.08 : \n",
    "            return 0\n",
    "        elif m_x < 0.5 : \n",
    "            return 2*m_x**(-1.3)\n",
    "        elif m_x < 150:\n",
    "            return m_x**(-2.3)\n",
    "        else :\n",
    "            return 0\n",
    "        \n",
    "        \n",
    "    while label == 'Chabrier':\n",
    "        if m_x < 0.07 : \n",
    "            return 0\n",
    "        elif m_x < 1.0 : \n",
    "            return m_x**(-1.55)\n",
    "        elif m_x < 100 : \n",
    "            return m_x**(-2.7)\n",
    "        else : \n",
    "            return 0\n",
    "\n",
    "# 返回IMF的pdf       \n",
    "def pdf_IMF(m_x,m_min,m_max,label='Kroupa'):\n",
    "    if m_x < m_min or m_x > m_max:\n",
    "        return 0\n",
    "    else : \n",
    "        return fun_IMF(m_x,label)/integrate.quad(lambda x : fun_IMF(x,label), m_min, m_max)[0]\n",
    "\n",
    "# 按照 初始质量函数 随机生成 m_n 个范围在 (m_min,m_max) 之间的质量 \n",
    "def random_IMF(m_n, m_min, m_max,label='Kroupa'):\n",
    "    m_result = []\n",
    "    c = pdf_IMF(m_min, m_min, m_max, label)\n",
    "    for i in range(m_n):\n",
    "        m_flag = 0 # 标志，判断生成的 mass 是否已经到达设定的质量上限 m_max\n",
    "        while m_flag == 0:\n",
    "            m_x = random.uniform(m_min, m_max) # 从(m_min, m_max)的均匀分布中随机抽取一个数\n",
    "            m_y = random.uniform(0,1) \n",
    "            if m_y < pdf_IMF(m_x, m_min, m_max, label)/c: \n",
    "                m_result.append(m_x)\n",
    "                m_flag = 1\n",
    "    return m_result"
   ]
  },
  {
   "cell_type": "code",
   "execution_count": null,
   "metadata": {},
   "outputs": [],
   "source": []
  }
 ],
 "metadata": {
  "kernelspec": {
   "display_name": "workspace",
   "language": "python",
   "name": "python3"
  },
  "language_info": {
   "codemirror_mode": {
    "name": "ipython",
    "version": 3
   },
   "file_extension": ".py",
   "mimetype": "text/x-python",
   "name": "python",
   "nbconvert_exporter": "python",
   "pygments_lexer": "ipython3",
   "version": "3.10.12"
  },
  "orig_nbformat": 4
 },
 "nbformat": 4,
 "nbformat_minor": 2
}
